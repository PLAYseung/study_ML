{
 "cells": [
  {
   "cell_type": "code",
   "execution_count": 2,
   "metadata": {},
   "outputs": [],
   "source": [
    "import numpy as np\n",
    "import pandas as pd\n",
    "import scipy as sp\n",
    "\n",
    "import matplotlib as mpl\n",
    "import matplotlib.pyplot as plt\n",
    "import seaborn as sns"
   ]
  },
  {
   "cell_type": "code",
   "execution_count": 3,
   "metadata": {},
   "outputs": [],
   "source": [
    "# 머신러닝 패키지 추가\n",
    "import statsmodels.api as sm\n",
    "import sklearn as sk\n"
   ]
  },
  {
   "cell_type": "code",
   "execution_count": 5,
   "metadata": {},
   "outputs": [],
   "source": [
    "# 한글 폰트, 마이너스 \n",
    "from matplotlib import font_manager,rc\n",
    "import matplotlib.font_manager as fm\n",
    "\n",
    "font_path = \"C:/Windows/Fonts/H2GTRM.TTF\"\n",
    "font = font_manager.FontProperties(fname=font_path).get_name()\n",
    "plt.rcParams['axes.unicode_minus'] = False\n",
    "rc('font',family=font) "
   ]
  },
  {
   "cell_type": "code",
   "execution_count": 6,
   "metadata": {},
   "outputs": [
    {
     "data": {
      "text/plain": [
       "array([[1, 4],\n",
       "       [2, 5],\n",
       "       [3, 6]])"
      ]
     },
     "execution_count": 6,
     "metadata": {},
     "output_type": "execute_result"
    }
   ],
   "source": [
    "# column_stack() ~= Pandas.DataFrame()\n",
    "np.column_stack(([1,2,3],[4,5,6]))\n"
   ]
  },
  {
   "cell_type": "code",
   "execution_count": 11,
   "metadata": {},
   "outputs": [],
   "source": [
    "fish_length = [25.4, 26.3, 26.5, 29.0, 29.0, 29.7, 29.7, 30.0, 30.0, 30.7, 31.0, 31.0, \n",
    "                31.5, 32.0, 32.0, 32.0, 33.0, 33.0, 33.5, 33.5, 34.0, 34.0, 34.5, 35.0, \n",
    "                35.0, 35.0, 35.0, 36.0, 36.0, 37.0, 38.5, 38.5, 39.5, 41.0, 41.0,9.8, 10.5, 10.6, 11.0, 11.2, 11.3, 11.8, 11.8, 12.0, 12.2, 12.4, 13.0, 14.3, 15.0]\n",
    "fish_weight = [242.0, 290.0, 340.0, 363.0, 430.0, 450.0, 500.0, 390.0, 450.0, 500.0, 475.0, 500.0, \n",
    "                500.0, 340.0, 600.0, 600.0, 700.0, 700.0, 610.0, 650.0, 575.0, 685.0, 620.0, 680.0, \n",
    "                700.0, 725.0, 720.0, 714.0, 850.0, 1000.0, 920.0, 955.0, 925.0, 975.0, 950.0,6.7, 7.5, 7.0, 9.7, 9.8, 8.7, 10.0, 9.9, 9.8, 12.2, 13.4, 12.2, 19.7, 19.9]"
   ]
  },
  {
   "cell_type": "code",
   "execution_count": 13,
   "metadata": {},
   "outputs": [
    {
     "data": {
      "text/plain": [
       "array([[  25.4,  242. ],\n",
       "       [  26.3,  290. ],\n",
       "       [  26.5,  340. ],\n",
       "       [  29. ,  363. ],\n",
       "       [  29. ,  430. ],\n",
       "       [  29.7,  450. ],\n",
       "       [  29.7,  500. ],\n",
       "       [  30. ,  390. ],\n",
       "       [  30. ,  450. ],\n",
       "       [  30.7,  500. ],\n",
       "       [  31. ,  475. ],\n",
       "       [  31. ,  500. ],\n",
       "       [  31.5,  500. ],\n",
       "       [  32. ,  340. ],\n",
       "       [  32. ,  600. ],\n",
       "       [  32. ,  600. ],\n",
       "       [  33. ,  700. ],\n",
       "       [  33. ,  700. ],\n",
       "       [  33.5,  610. ],\n",
       "       [  33.5,  650. ],\n",
       "       [  34. ,  575. ],\n",
       "       [  34. ,  685. ],\n",
       "       [  34.5,  620. ],\n",
       "       [  35. ,  680. ],\n",
       "       [  35. ,  700. ],\n",
       "       [  35. ,  725. ],\n",
       "       [  35. ,  720. ],\n",
       "       [  36. ,  714. ],\n",
       "       [  36. ,  850. ],\n",
       "       [  37. , 1000. ],\n",
       "       [  38.5,  920. ],\n",
       "       [  38.5,  955. ],\n",
       "       [  39.5,  925. ],\n",
       "       [  41. ,  975. ],\n",
       "       [  41. ,  950. ],\n",
       "       [   9.8,    6.7],\n",
       "       [  10.5,    7.5],\n",
       "       [  10.6,    7. ],\n",
       "       [  11. ,    9.7],\n",
       "       [  11.2,    9.8],\n",
       "       [  11.3,    8.7],\n",
       "       [  11.8,   10. ],\n",
       "       [  11.8,    9.9],\n",
       "       [  12. ,    9.8],\n",
       "       [  12.2,   12.2],\n",
       "       [  12.4,   13.4],\n",
       "       [  13. ,   12.2],\n",
       "       [  14.3,   19.7],\n",
       "       [  15. ,   19.9]])"
      ]
     },
     "execution_count": 13,
     "metadata": {},
     "output_type": "execute_result"
    }
   ],
   "source": [
    "# [[l,w] for l,w in zip(fish_length,fish_weight)] 사용 x\n",
    "fish_data = np.column_stack((fish_length,fish_weight))\n",
    "fish_data"
   ]
  },
  {
   "cell_type": "code",
   "execution_count": 14,
   "metadata": {},
   "outputs": [
    {
     "data": {
      "text/plain": [
       "array([1., 1., 1., 1., 1., 1., 1., 1., 1., 1., 1., 1., 1., 1., 1., 1., 1.,\n",
       "       1., 1., 1., 1., 1., 1., 1., 1., 1., 1., 1., 1., 1., 1., 1., 1., 1.,\n",
       "       1., 0., 0., 0., 0., 0., 0., 0., 0., 0., 0., 0., 0., 0., 0.])"
      ]
     },
     "execution_count": 14,
     "metadata": {},
     "output_type": "execute_result"
    }
   ],
   "source": [
    "fish_target = np.concatenate((np.ones(35),np.zeros(14)))\n",
    "fish_target"
   ]
  },
  {
   "cell_type": "markdown",
   "metadata": {},
   "source": [
    "사이킷런 train_test_split()"
   ]
  },
  {
   "cell_type": "code",
   "execution_count": 15,
   "metadata": {},
   "outputs": [],
   "source": [
    "from sklearn.model_selection import train_test_split"
   ]
  },
  {
   "cell_type": "code",
   "execution_count": 16,
   "metadata": {},
   "outputs": [],
   "source": [
    "# 데이터 분활 하여 변수로 저장\n",
    "train_input,test_input,train_target,test_target = train_test_split(fish_data,fish_target,random_state=42)"
   ]
  },
  {
   "cell_type": "code",
   "execution_count": 18,
   "metadata": {},
   "outputs": [
    {
     "data": {
      "text/plain": [
       "(36, 2)"
      ]
     },
     "execution_count": 18,
     "metadata": {},
     "output_type": "execute_result"
    }
   ],
   "source": [
    "train_input.shape"
   ]
  },
  {
   "cell_type": "code",
   "execution_count": 19,
   "metadata": {},
   "outputs": [
    {
     "data": {
      "text/plain": [
       "(36,)"
      ]
     },
     "execution_count": 19,
     "metadata": {},
     "output_type": "execute_result"
    }
   ],
   "source": [
    "train_target.shape"
   ]
  },
  {
   "cell_type": "code",
   "execution_count": 20,
   "metadata": {},
   "outputs": [
    {
     "data": {
      "text/plain": [
       "(13, 2)"
      ]
     },
     "execution_count": 20,
     "metadata": {},
     "output_type": "execute_result"
    }
   ],
   "source": [
    "test_input.shape"
   ]
  },
  {
   "cell_type": "code",
   "execution_count": 21,
   "metadata": {},
   "outputs": [
    {
     "data": {
      "text/plain": [
       "(13,)"
      ]
     },
     "execution_count": 21,
     "metadata": {},
     "output_type": "execute_result"
    }
   ],
   "source": [
    "test_target.shape"
   ]
  },
  {
   "cell_type": "code",
   "execution_count": null,
   "metadata": {},
   "outputs": [],
   "source": []
  }
 ],
 "metadata": {
  "kernelspec": {
   "display_name": "Python 3.10.6 64-bit",
   "language": "python",
   "name": "python3"
  },
  "language_info": {
   "codemirror_mode": {
    "name": "ipython",
    "version": 3
   },
   "file_extension": ".py",
   "mimetype": "text/x-python",
   "name": "python",
   "nbconvert_exporter": "python",
   "pygments_lexer": "ipython3",
   "version": "3.10.6"
  },
  "orig_nbformat": 4,
  "vscode": {
   "interpreter": {
    "hash": "db1b3980ec5a932752c6df80e3e923e6f0d644610ca2b02781fcd822891163d3"
   }
  }
 },
 "nbformat": 4,
 "nbformat_minor": 2
}
