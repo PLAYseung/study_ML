{
 "cells": [
  {
   "cell_type": "code",
   "execution_count": 1,
   "metadata": {},
   "outputs": [],
   "source": [
    "import numpy as np\n",
    "import pandas as pd\n",
    "import scipy as sp\n",
    "\n",
    "import matplotlib as mpl\n",
    "import matplotlib.pyplot as plt\n",
    "import seaborn as sns\n",
    "\n",
    "# 한글 폰트, 마이너스 \n",
    "from matplotlib import rc\n",
    "import matplotlib.font_manager as fm\n",
    "\n",
    "plt.rc('font', family='Malgun Gothic')\n",
    "sns.set(font='Malgun Gothic', rc={'axes.unicode_minus':False}, style='darkgrid')"
   ]
  },
  {
   "cell_type": "markdown",
   "metadata": {},
   "source": [
    "### CNN 합성곱 신경망"
   ]
  },
  {
   "cell_type": "code",
   "execution_count": 2,
   "metadata": {},
   "outputs": [],
   "source": [
    "from tensorflow import keras\n",
    "from tensorflow.keras.datasets.fashion_mnist import load_data\n",
    "from sklearn.model_selection import train_test_split"
   ]
  },
  {
   "cell_type": "code",
   "execution_count": 3,
   "metadata": {},
   "outputs": [],
   "source": [
    "(train_input,train_target),(test_input,test_target) = load_data()"
   ]
  },
  {
   "cell_type": "code",
   "execution_count": 4,
   "metadata": {},
   "outputs": [
    {
     "data": {
      "text/plain": [
       "(60000, 28, 28, 1)"
      ]
     },
     "execution_count": 4,
     "metadata": {},
     "output_type": "execute_result"
    }
   ],
   "source": [
    "train_scaled = train_input.reshape(-1,28,28,1) /255.0\n",
    "train_scaled.shape"
   ]
  },
  {
   "cell_type": "code",
   "execution_count": 5,
   "metadata": {},
   "outputs": [],
   "source": [
    "train_scaled, val_scaled, train_target, val_target = train_test_split(train_scaled,train_target,test_size=0.2, random_state=42)"
   ]
  },
  {
   "cell_type": "code",
   "execution_count": 6,
   "metadata": {},
   "outputs": [
    {
     "name": "stdout",
     "output_type": "stream",
     "text": [
      "(48000, 28, 28, 1) (48000,)\n",
      "(12000, 28, 28, 1) (12000,)\n"
     ]
    }
   ],
   "source": [
    "print(train_scaled.shape,train_target.shape)\n",
    "print(val_scaled.shape,val_target.shape)"
   ]
  },
  {
   "cell_type": "markdown",
   "metadata": {},
   "source": [
    "#### 합성곱 신경망 만들기"
   ]
  },
  {
   "cell_type": "code",
   "execution_count": 7,
   "metadata": {},
   "outputs": [],
   "source": [
    "model = keras.Sequential()\n",
    "\n",
    "model.add(keras.layers.Conv2D(32, kernel_size=3, activation='relu', padding='same', input_shape=(28,28,1)))\n",
    "model.add(keras.layers.MaxPooling2D(2))\n",
    "\n",
    "model.add(keras.layers.Conv2D(64, kernel_size=3, activation='relu', padding='same'))\n",
    "model.add(keras.layers.MaxPooling2D(2))"
   ]
  },
  {
   "cell_type": "code",
   "execution_count": 8,
   "metadata": {},
   "outputs": [],
   "source": [
    "model.add(keras.layers.Flatten()) # 7X7X64 + 64\n",
    "model.add(keras.layers.Dense(100,activation='relu'))\n",
    "model.add(keras.layers.Dropout(0.4)) # 60개의 노드만 통과\n",
    "model.add(keras.layers.Dense(10,activation='softmax'))"
   ]
  },
  {
   "cell_type": "code",
   "execution_count": 9,
   "metadata": {},
   "outputs": [
    {
     "name": "stdout",
     "output_type": "stream",
     "text": [
      "Model: \"sequential\"\n",
      "_________________________________________________________________\n",
      " Layer (type)                Output Shape              Param #   \n",
      "=================================================================\n",
      " conv2d (Conv2D)             (None, 28, 28, 32)        320       \n",
      "                                                                 \n",
      " max_pooling2d (MaxPooling2D  (None, 14, 14, 32)       0         \n",
      " )                                                               \n",
      "                                                                 \n",
      " conv2d_1 (Conv2D)           (None, 14, 14, 64)        18496     \n",
      "                                                                 \n",
      " max_pooling2d_1 (MaxPooling  (None, 7, 7, 64)         0         \n",
      " 2D)                                                             \n",
      "                                                                 \n",
      " flatten (Flatten)           (None, 3136)              0         \n",
      "                                                                 \n",
      " dense (Dense)               (None, 100)               313700    \n",
      "                                                                 \n",
      " dropout (Dropout)           (None, 100)               0         \n",
      "                                                                 \n",
      " dense_1 (Dense)             (None, 10)                1010      \n",
      "                                                                 \n",
      "=================================================================\n",
      "Total params: 333,526\n",
      "Trainable params: 333,526\n",
      "Non-trainable params: 0\n",
      "_________________________________________________________________\n"
     ]
    }
   ],
   "source": [
    "model.summary()"
   ]
  },
  {
   "cell_type": "code",
   "execution_count": 12,
   "metadata": {},
   "outputs": [
    {
     "name": "stdout",
     "output_type": "stream",
     "text": [
      "You must install pydot (`pip install pydot`) and install graphviz (see instructions at https://graphviz.gitlab.io/download/) for plot_model/model_to_dot to work.\n"
     ]
    }
   ],
   "source": [
    "keras.utils.plot_model(model)"
   ]
  },
  {
   "cell_type": "markdown",
   "metadata": {},
   "source": [
    "#### 모델 컴파일 훈련"
   ]
  },
  {
   "cell_type": "code",
   "execution_count": 14,
   "metadata": {},
   "outputs": [
    {
     "name": "stdout",
     "output_type": "stream",
     "text": [
      "Epoch 1/20\n",
      "1499/1500 [============================>.] - ETA: 0s - loss: 0.5274 - accuracy: 0.8113\n",
      "Epoch 1: val_loss improved from inf to 0.33460, saving model to ./data\\best_CNN_model.h5\n",
      "1500/1500 [==============================] - 29s 19ms/step - loss: 0.5273 - accuracy: 0.8113 - val_loss: 0.3346 - val_accuracy: 0.8739\n",
      "Epoch 2/20\n",
      "1498/1500 [============================>.] - ETA: 0s - loss: 0.3431 - accuracy: 0.8762\n",
      "Epoch 2: val_loss improved from 0.33460 to 0.28476, saving model to ./data\\best_CNN_model.h5\n",
      "1500/1500 [==============================] - 31s 21ms/step - loss: 0.3430 - accuracy: 0.8763 - val_loss: 0.2848 - val_accuracy: 0.8937\n",
      "Epoch 3/20\n",
      "1499/1500 [============================>.] - ETA: 0s - loss: 0.2908 - accuracy: 0.8951\n",
      "Epoch 3: val_loss improved from 0.28476 to 0.24231, saving model to ./data\\best_CNN_model.h5\n",
      "1500/1500 [==============================] - 31s 21ms/step - loss: 0.2908 - accuracy: 0.8951 - val_loss: 0.2423 - val_accuracy: 0.9093\n",
      "Epoch 4/20\n",
      "1499/1500 [============================>.] - ETA: 0s - loss: 0.2609 - accuracy: 0.9052\n",
      "Epoch 4: val_loss improved from 0.24231 to 0.24077, saving model to ./data\\best_CNN_model.h5\n",
      "1500/1500 [==============================] - 31s 21ms/step - loss: 0.2609 - accuracy: 0.9052 - val_loss: 0.2408 - val_accuracy: 0.9101\n",
      "Epoch 5/20\n",
      "1498/1500 [============================>.] - ETA: 0s - loss: 0.2397 - accuracy: 0.9131\n",
      "Epoch 5: val_loss improved from 0.24077 to 0.22020, saving model to ./data\\best_CNN_model.h5\n",
      "1500/1500 [==============================] - 31s 21ms/step - loss: 0.2396 - accuracy: 0.9131 - val_loss: 0.2202 - val_accuracy: 0.9183\n",
      "Epoch 6/20\n",
      "1500/1500 [==============================] - ETA: 0s - loss: 0.2171 - accuracy: 0.9200\n",
      "Epoch 6: val_loss improved from 0.22020 to 0.21949, saving model to ./data\\best_CNN_model.h5\n",
      "1500/1500 [==============================] - 32s 21ms/step - loss: 0.2171 - accuracy: 0.9200 - val_loss: 0.2195 - val_accuracy: 0.9188\n",
      "Epoch 7/20\n",
      "1500/1500 [==============================] - ETA: 0s - loss: 0.2022 - accuracy: 0.9240\n",
      "Epoch 7: val_loss improved from 0.21949 to 0.21658, saving model to ./data\\best_CNN_model.h5\n",
      "1500/1500 [==============================] - 34s 23ms/step - loss: 0.2022 - accuracy: 0.9240 - val_loss: 0.2166 - val_accuracy: 0.9205\n",
      "Epoch 8/20\n",
      "1499/1500 [============================>.] - ETA: 0s - loss: 0.1867 - accuracy: 0.9294\n",
      "Epoch 8: val_loss improved from 0.21658 to 0.21529, saving model to ./data\\best_CNN_model.h5\n",
      "1500/1500 [==============================] - 34s 23ms/step - loss: 0.1866 - accuracy: 0.9294 - val_loss: 0.2153 - val_accuracy: 0.9211\n",
      "Epoch 9/20\n",
      "1498/1500 [============================>.] - ETA: 0s - loss: 0.1734 - accuracy: 0.9349\n",
      "Epoch 9: val_loss did not improve from 0.21529\n",
      "1500/1500 [==============================] - 33s 22ms/step - loss: 0.1733 - accuracy: 0.9350 - val_loss: 0.2483 - val_accuracy: 0.9180\n",
      "Epoch 10/20\n",
      "1499/1500 [============================>.] - ETA: 0s - loss: 0.1632 - accuracy: 0.9380\n",
      "Epoch 10: val_loss did not improve from 0.21529\n",
      "Restoring model weights from the end of the best epoch: 8.\n",
      "1500/1500 [==============================] - 34s 23ms/step - loss: 0.1632 - accuracy: 0.9380 - val_loss: 0.2260 - val_accuracy: 0.9217\n",
      "Epoch 10: early stopping\n"
     ]
    }
   ],
   "source": [
    "model.compile(loss='sparse_categorical_crossentropy',metrics='accuracy',optimizer='adam')\n",
    "\n",
    "checkpoint_cb = keras.callbacks.ModelCheckpoint('./data/best_CNN_model.h5',save_best_only=True,verbose=1)\n",
    "early_stopping_cb = keras.callbacks.EarlyStopping(patience=2,restore_best_weights=True,verbose=1)\n",
    "history = model.fit(train_scaled, train_target, epochs=20, validation_data=(val_scaled, val_target), callbacks=[checkpoint_cb, early_stopping_cb])"
   ]
  },
  {
   "cell_type": "code",
   "execution_count": 15,
   "metadata": {},
   "outputs": [
    {
     "data": {
      "image/png": "[encoded data removed]",
      "text/plain": [
       "<Figure size 720x360 with 1 Axes>"
      ]
     },
     "metadata": {
      "needs_background": "light"
     },
     "output_type": "display_data"
    }
   ],
   "source": [
    "plt.figure(figsize=(10,5))\n",
    "plt.plot(history.history['loss'])\n",
    "plt.plot(history.history['val_loss'])\n",
    "plt.show()"
   ]
  },
  {
   "cell_type": "code",
   "execution_count": 16,
   "metadata": {},
   "outputs": [
    {
     "data": {
      "text/plain": [
       "9"
      ]
     },
     "execution_count": 16,
     "metadata": {},
     "output_type": "execute_result"
    }
   ],
   "source": [
    "early_stopping_cb.stopped_epoch"
   ]
  },
  {
   "cell_type": "code",
   "execution_count": 17,
   "metadata": {},
   "outputs": [
    {
     "name": "stdout",
     "output_type": "stream",
     "text": [
      "375/375 [==============================] - 2s 5ms/step - loss: 0.2153 - accuracy: 0.9211\n"
     ]
    },
    {
     "data": {
      "text/plain": [
       "[0.21529358625411987, 0.9210833311080933]"
      ]
     },
     "execution_count": 17,
     "metadata": {},
     "output_type": "execute_result"
    }
   ],
   "source": [
    "model.evaluate(val_scaled,val_target)"
   ]
  },
  {
   "cell_type": "code",
   "execution_count": 25,
   "metadata": {},
   "outputs": [
    {
     "data": {
      "image/png": "[encoded data removed]",
      "text/plain": [
       "<Figure size 432x288 with 1 Axes>"
      ]
     },
     "metadata": {
      "needs_background": "light"
     },
     "output_type": "display_data"
    }
   ],
   "source": [
    "plt.imshow(val_scaled[0].reshape(28,28),cmap='gray_r')\n",
    "plt.show()"
   ]
  },
  {
   "cell_type": "code",
   "execution_count": 21,
   "metadata": {},
   "outputs": [
    {
     "name": "stdout",
     "output_type": "stream",
     "text": [
      "1/1 [==============================] - 0s 75ms/step\n"
     ]
    },
    {
     "data": {
      "text/plain": [
       "array([[2.8585647e-15, 1.6700130e-25, 9.2884969e-19, 1.4096053e-18,\n",
       "        8.9984626e-19, 2.1059299e-18, 1.2923689e-16, 8.1027188e-18,\n",
       "        1.0000000e+00, 6.2124485e-19]], dtype=float32)"
      ]
     },
     "execution_count": 21,
     "metadata": {},
     "output_type": "execute_result"
    }
   ],
   "source": [
    "result = model.predict(val_scaled[0:1])\n",
    "result"
   ]
  },
  {
   "cell_type": "code",
   "execution_count": 28,
   "metadata": {},
   "outputs": [
    {
     "name": "stdout",
     "output_type": "stream",
     "text": [
      "1/1 [==============================] - 0s 23ms/step\n"
     ]
    },
    {
     "data": {
      "text/plain": [
       "array([8], dtype=int64)"
      ]
     },
     "execution_count": 28,
     "metadata": {},
     "output_type": "execute_result"
    }
   ],
   "source": [
    "val_labels = np.argmax(model.predict(val_scaled[0:1]),axis=-1)\n",
    "val_labels"
   ]
  },
  {
   "cell_type": "code",
   "execution_count": 31,
   "metadata": {},
   "outputs": [],
   "source": [
    "classes = ['티셔츠','바지','스웨터','드레스','코트','샌달','셔츠','스니커즈','가방','앵클부츠']"
   ]
  },
  {
   "cell_type": "code",
   "execution_count": 32,
   "metadata": {},
   "outputs": [
    {
     "name": "stdout",
     "output_type": "stream",
     "text": [
      "가방\n"
     ]
    }
   ],
   "source": [
    "print(classes[np.argmax(result)])"
   ]
  },
  {
   "cell_type": "code",
   "execution_count": null,
   "metadata": {},
   "outputs": [],
   "source": []
  }
 ],
 "metadata": {
  "kernelspec": {
   "display_name": "Python 3.10.6 64-bit (windows store)",
   "language": "python",
   "name": "python3"
  },
  "language_info": {
   "codemirror_mode": {
    "name": "ipython",
    "version": 3
   },
   "file_extension": ".py",
   "mimetype": "text/x-python",
   "name": "python",
   "nbconvert_exporter": "python",
   "pygments_lexer": "ipython3",
   "version": "3.10.6"
  },
  "orig_nbformat": 4,
  "vscode": {
   "interpreter": {
    "hash": "614ab989cdc66a649d1bb5ae325f2f1314093ceadee94b2deaa33c97b811aaf8"
   }
  }
 },
 "nbformat": 4,
 "nbformat_minor": 2
}
