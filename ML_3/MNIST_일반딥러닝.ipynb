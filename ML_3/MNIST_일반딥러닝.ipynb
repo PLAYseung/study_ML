{
 "cells": [
  {
   "cell_type": "code",
   "execution_count": 8,
   "metadata": {},
   "outputs": [],
   "source": [
    "import numpy as np\n",
    "import pandas as pd\n",
    "import scipy as sp\n",
    "\n",
    "import matplotlib as mpl\n",
    "import matplotlib.pyplot as plt\n",
    "import seaborn as sns\n",
    "\n",
    "# 한글 폰트, 마이너스 \n",
    "from matplotlib import rc\n",
    "import matplotlib.font_manager as fm\n",
    "\n",
    "plt.rc('font', family='Malgun Gothic')\n",
    "sns.set(font='Malgun Gothic', rc={'axes.unicode_minus':False}, style='darkgrid')"
   ]
  },
  {
   "cell_type": "code",
   "execution_count": 2,
   "metadata": {},
   "outputs": [],
   "source": [
    "from tensorflow import keras\n",
    "from tensorflow.keras.datasets.mnist import load_data\n",
    "from sklearn.model_selection import train_test_split"
   ]
  },
  {
   "cell_type": "code",
   "execution_count": 3,
   "metadata": {},
   "outputs": [],
   "source": [
    "(train_input,train_target),(test_input,test_target) = load_data()"
   ]
  },
  {
   "cell_type": "code",
   "execution_count": 4,
   "metadata": {},
   "outputs": [
    {
     "name": "stdout",
     "output_type": "stream",
     "text": [
      "(60000, 28, 28) (60000,)\n",
      "(10000, 28, 28) (10000,)\n"
     ]
    }
   ],
   "source": [
    "print(train_input.shape,train_target.shape)\n",
    "print(test_input.shape,test_target.shape)"
   ]
  },
  {
   "cell_type": "code",
   "execution_count": 5,
   "metadata": {},
   "outputs": [],
   "source": [
    "def show_images(dataset,label,nrow,ncol):\n",
    "\n",
    "    # 캔버스 설정\n",
    "    fig, axes = plt.subplots(nrows=nrow, ncols= ncol, figsize=(2*ncol,2*nrow))\n",
    "    ax = axes.ravel()\n",
    "\n",
    "    xlabels = label[0:nrow*ncol]\n",
    "\n",
    "    for i in range(nrow*ncol):\n",
    "\n",
    "        image = dataset[i]\n",
    "        ax[i].imshow(image,cmap='gray_r')\n",
    "        ax[i].set_xticks([])\n",
    "        ax[i].set_yticks([])\n",
    "        ax[i].set_xlabel(xlabels[i])\n",
    "\n",
    "    plt.tight_layout()\n",
    "    plt.show()"
   ]
  },
  {
   "cell_type": "code",
   "execution_count": 10,
   "metadata": {},
   "outputs": [
    {
     "data": {
      "image/png": "[encoded data removed]",
      "text/plain": [
       "<Figure size 1440x288 with 20 Axes>"
      ]
     },
     "metadata": {},
     "output_type": "display_data"
    }
   ],
   "source": [
    "show_images(train_input,train_target,2,10)"
   ]
  },
  {
   "cell_type": "code",
   "execution_count": 12,
   "metadata": {},
   "outputs": [
    {
     "name": "stdout",
     "output_type": "stream",
     "text": [
      "Model: \"ANN\"\n",
      "_________________________________________________________________\n",
      " Layer (type)                Output Shape              Param #   \n",
      "=================================================================\n",
      " flatten (Flatten)           (None, 784)               0         \n",
      "                                                                 \n",
      " hidden (Dense)              (None, 100)               78500     \n",
      "                                                                 \n",
      " output (Dense)              (None, 10)                1010      \n",
      "                                                                 \n",
      "=================================================================\n",
      "Total params: 79,510\n",
      "Trainable params: 79,510\n",
      "Non-trainable params: 0\n",
      "_________________________________________________________________\n"
     ]
    }
   ],
   "source": [
    "model = keras.Sequential(name='ANN')\n",
    "\n",
    "model.add(keras.layers.Flatten(input_shape=(28,28))) # 2차원 입력 값을 1차원으로\n",
    "model.add(keras.layers.Dense(100,activation='relu',name='hidden'))\n",
    "model.add(keras.layers.Dense(10,activation='softmax',name='output'))\n",
    "model.summary()"
   ]
  },
  {
   "cell_type": "code",
   "execution_count": 15,
   "metadata": {},
   "outputs": [
    {
     "name": "stdout",
     "output_type": "stream",
     "text": [
      "Epoch 1/20\n",
      "598/600 [============================>.] - ETA: 0s - loss: 4.5030 - accuracy: 0.8614\n",
      "Epoch 1: val_loss improved from inf to 1.06018, saving model to ./data\\best_ANN_model.h5\n",
      "600/600 [==============================] - 2s 2ms/step - loss: 4.4903 - accuracy: 0.8615 - val_loss: 1.0602 - val_accuracy: 0.8817\n",
      "Epoch 2/20\n",
      "581/600 [============================>.] - ETA: 0s - loss: 0.6852 - accuracy: 0.9033\n",
      "Epoch 2: val_loss improved from 1.06018 to 0.57858, saving model to ./data\\best_ANN_model.h5\n",
      "600/600 [==============================] - 1s 2ms/step - loss: 0.6777 - accuracy: 0.9035 - val_loss: 0.5786 - val_accuracy: 0.9080\n",
      "Epoch 3/20\n",
      "576/600 [===========================>..] - ETA: 0s - loss: 0.3850 - accuracy: 0.9231\n",
      "Epoch 3: val_loss improved from 0.57858 to 0.46673, saving model to ./data\\best_ANN_model.h5\n",
      "600/600 [==============================] - 1s 2ms/step - loss: 0.3830 - accuracy: 0.9234 - val_loss: 0.4667 - val_accuracy: 0.9128\n",
      "Epoch 4/20\n",
      "577/600 [===========================>..] - ETA: 0s - loss: 0.2730 - accuracy: 0.9380\n",
      "Epoch 4: val_loss improved from 0.46673 to 0.41672, saving model to ./data\\best_ANN_model.h5\n",
      "600/600 [==============================] - 1s 2ms/step - loss: 0.2729 - accuracy: 0.9378 - val_loss: 0.4167 - val_accuracy: 0.9293\n",
      "Epoch 5/20\n",
      "578/600 [===========================>..] - ETA: 0s - loss: 0.2195 - accuracy: 0.9444\n",
      "Epoch 5: val_loss improved from 0.41672 to 0.37796, saving model to ./data\\best_ANN_model.h5\n",
      "600/600 [==============================] - 1s 2ms/step - loss: 0.2191 - accuracy: 0.9442 - val_loss: 0.3780 - val_accuracy: 0.9310\n",
      "Epoch 6/20\n",
      "595/600 [============================>.] - ETA: 0s - loss: 0.1920 - accuracy: 0.9497\n",
      "Epoch 6: val_loss improved from 0.37796 to 0.33303, saving model to ./data\\best_ANN_model.h5\n",
      "600/600 [==============================] - 1s 2ms/step - loss: 0.1920 - accuracy: 0.9497 - val_loss: 0.3330 - val_accuracy: 0.9384\n",
      "Epoch 7/20\n",
      "575/600 [===========================>..] - ETA: 0s - loss: 0.1759 - accuracy: 0.9527\n",
      "Epoch 7: val_loss improved from 0.33303 to 0.29435, saving model to ./data\\best_ANN_model.h5\n",
      "600/600 [==============================] - 1s 2ms/step - loss: 0.1754 - accuracy: 0.9528 - val_loss: 0.2943 - val_accuracy: 0.9394\n",
      "Epoch 8/20\n",
      "584/600 [============================>.] - ETA: 0s - loss: 0.1573 - accuracy: 0.9576\n",
      "Epoch 8: val_loss improved from 0.29435 to 0.28156, saving model to ./data\\best_ANN_model.h5\n",
      "600/600 [==============================] - 1s 2ms/step - loss: 0.1578 - accuracy: 0.9574 - val_loss: 0.2816 - val_accuracy: 0.9417\n",
      "Epoch 9/20\n",
      "574/600 [===========================>..] - ETA: 0s - loss: 0.1486 - accuracy: 0.9588\n",
      "Epoch 9: val_loss improved from 0.28156 to 0.27356, saving model to ./data\\best_ANN_model.h5\n",
      "600/600 [==============================] - 1s 2ms/step - loss: 0.1498 - accuracy: 0.9587 - val_loss: 0.2736 - val_accuracy: 0.9443\n",
      "Epoch 10/20\n",
      "576/600 [===========================>..] - ETA: 0s - loss: 0.1437 - accuracy: 0.9610\n",
      "Epoch 10: val_loss improved from 0.27356 to 0.24725, saving model to ./data\\best_ANN_model.h5\n",
      "600/600 [==============================] - 1s 2ms/step - loss: 0.1452 - accuracy: 0.9605 - val_loss: 0.2473 - val_accuracy: 0.9445\n",
      "Epoch 11/20\n",
      "593/600 [============================>.] - ETA: 0s - loss: 0.1363 - accuracy: 0.9626\n",
      "Epoch 11: val_loss did not improve from 0.24725\n",
      "600/600 [==============================] - 1s 2ms/step - loss: 0.1375 - accuracy: 0.9622 - val_loss: 0.2532 - val_accuracy: 0.9505\n",
      "Epoch 12/20\n",
      "586/600 [============================>.] - ETA: 0s - loss: 0.1307 - accuracy: 0.9649\n",
      "Epoch 12: val_loss improved from 0.24725 to 0.23689, saving model to ./data\\best_ANN_model.h5\n",
      "600/600 [==============================] - 1s 2ms/step - loss: 0.1300 - accuracy: 0.9650 - val_loss: 0.2369 - val_accuracy: 0.9532\n",
      "Epoch 13/20\n",
      "584/600 [============================>.] - ETA: 0s - loss: 0.1187 - accuracy: 0.9675\n",
      "Epoch 13: val_loss did not improve from 0.23689\n",
      "600/600 [==============================] - 1s 2ms/step - loss: 0.1196 - accuracy: 0.9673 - val_loss: 0.2398 - val_accuracy: 0.9530\n",
      "Epoch 14/20\n",
      "596/600 [============================>.] - ETA: 0s - loss: 0.1130 - accuracy: 0.9690\n",
      "Epoch 14: val_loss improved from 0.23689 to 0.23053, saving model to ./data\\best_ANN_model.h5\n",
      "600/600 [==============================] - 1s 2ms/step - loss: 0.1129 - accuracy: 0.9690 - val_loss: 0.2305 - val_accuracy: 0.9575\n",
      "Epoch 15/20\n",
      "585/600 [============================>.] - ETA: 0s - loss: 0.1166 - accuracy: 0.9682\n",
      "Epoch 15: val_loss improved from 0.23053 to 0.22872, saving model to ./data\\best_ANN_model.h5\n",
      "600/600 [==============================] - 1s 2ms/step - loss: 0.1172 - accuracy: 0.9682 - val_loss: 0.2287 - val_accuracy: 0.9590\n",
      "Epoch 16/20\n",
      "581/600 [============================>.] - ETA: 0s - loss: 0.1100 - accuracy: 0.9712\n",
      "Epoch 16: val_loss did not improve from 0.22872\n",
      "600/600 [==============================] - 1s 2ms/step - loss: 0.1111 - accuracy: 0.9710 - val_loss: 0.2611 - val_accuracy: 0.9536\n",
      "Epoch 17/20\n",
      "580/600 [============================>.] - ETA: 0s - loss: 0.1112 - accuracy: 0.9706\n",
      "Epoch 17: val_loss did not improve from 0.22872\n",
      "600/600 [==============================] - 1s 2ms/step - loss: 0.1128 - accuracy: 0.9703 - val_loss: 0.2612 - val_accuracy: 0.9495\n"
     ]
    }
   ],
   "source": [
    "# 255.0 나눠서 0~1로 값 축소하는 일은 안함\n",
    "model.compile(loss='sparse_categorical_crossentropy',optimizer='adam',metrics='accuracy')\n",
    "\n",
    "checkpoint_cb = keras.callbacks.ModelCheckpoint('./data/best_ANN_model.h5',save_best_only=True,verbose=1)\n",
    "early_stopping_cb = keras.callbacks.EarlyStopping(patience=2,restore_best_weights=True)\n",
    "history = model.fit(train_input, train_target, epochs=20,verbose=1,batch_size=100, validation_data=(test_input, test_target), callbacks=[checkpoint_cb, early_stopping_cb])"
   ]
  },
  {
   "cell_type": "code",
   "execution_count": 16,
   "metadata": {},
   "outputs": [
    {
     "data": {
      "image/png": "[encoded data removed]",
      "text/plain": [
       "<Figure size 720x360 with 1 Axes>"
      ]
     },
     "metadata": {},
     "output_type": "display_data"
    }
   ],
   "source": [
    "plot_target = ['loss','val_loss']\n",
    "plt.figure(figsize=(10,5))\n",
    "\n",
    "\n",
    "for each in plot_target:\n",
    "    plt.plot(history.history[each],label=each)\n",
    "plt.legend()\n",
    "plt.show()"
   ]
  },
  {
   "cell_type": "code",
   "execution_count": 19,
   "metadata": {},
   "outputs": [
    {
     "data": {
      "image/png": "[encoded data removed]",
      "text/plain": [
       "<Figure size 720x360 with 1 Axes>"
      ]
     },
     "metadata": {},
     "output_type": "display_data"
    }
   ],
   "source": [
    "plot_target = ['accuracy','val_accuracy']\n",
    "plt.figure(figsize=(10,5))\n",
    "\n",
    "\n",
    "for each in plot_target:\n",
    "    plt.plot(history.history[each],label=each)\n",
    "plt.legend()\n",
    "plt.show()"
   ]
  },
  {
   "cell_type": "code",
   "execution_count": 20,
   "metadata": {},
   "outputs": [
    {
     "name": "stdout",
     "output_type": "stream",
     "text": [
      "313/313 [==============================] - 0s 1ms/step - loss: 0.2287 - accuracy: 0.9590\n"
     ]
    },
    {
     "data": {
      "text/plain": [
       "[0.2287227064371109, 0.9589999914169312]"
      ]
     },
     "execution_count": 20,
     "metadata": {},
     "output_type": "execute_result"
    }
   ],
   "source": [
    "model.evaluate(test_input,test_target)"
   ]
  },
  {
   "cell_type": "code",
   "execution_count": 21,
   "metadata": {},
   "outputs": [
    {
     "name": "stdout",
     "output_type": "stream",
     "text": [
      "313/313 [==============================] - 0s 1ms/step\n"
     ]
    }
   ],
   "source": [
    "pred_result = model.predict(test_input)"
   ]
  },
  {
   "cell_type": "code",
   "execution_count": 23,
   "metadata": {},
   "outputs": [
    {
     "data": {
      "text/plain": [
       "(10000,)"
      ]
     },
     "execution_count": 23,
     "metadata": {},
     "output_type": "execute_result"
    }
   ],
   "source": [
    "pred_labels = np.argmax(pred_result,axis=-1)\n",
    "pred_labels[:10]\n",
    "pred_labels.shape"
   ]
  },
  {
   "cell_type": "markdown",
   "metadata": {},
   "source": [
    "##### 예측실패한 이미지 파악"
   ]
  },
  {
   "cell_type": "code",
   "execution_count": 24,
   "metadata": {},
   "outputs": [
    {
     "data": {
      "text/plain": [
       "410"
      ]
     },
     "execution_count": 24,
     "metadata": {},
     "output_type": "execute_result"
    }
   ],
   "source": [
    "worng_result = []\n",
    "\n",
    "for i in range(0,len(test_target)):\n",
    "    if pred_labels[i] != test_target[i]:\n",
    "        worng_result.append(i)\n",
    "\n",
    "len(worng_result)"
   ]
  },
  {
   "cell_type": "code",
   "execution_count": 27,
   "metadata": {},
   "outputs": [
    {
     "data": {
      "text/plain": [
       "[1226,\n",
       " 8519,\n",
       " 1553,\n",
       " 2371,\n",
       " 6625,\n",
       " 6091,\n",
       " 4017,\n",
       " 1119,\n",
       " 9662,\n",
       " 1415,\n",
       " 4505,\n",
       " 2939,\n",
       " 2462,\n",
       " 1325,\n",
       " 6030,\n",
       " 1952]"
      ]
     },
     "execution_count": 27,
     "metadata": {},
     "output_type": "execute_result"
    }
   ],
   "source": [
    "import random\n",
    "\n",
    "sample = random.choices(population=worng_result,k=16)\n",
    "sample"
   ]
  },
  {
   "cell_type": "code",
   "execution_count": 30,
   "metadata": {},
   "outputs": [
    {
     "data": {
      "image/png": "[encoded data removed]",
      "text/plain": [
       "<Figure size 1008x864 with 16 Axes>"
      ]
     },
     "metadata": {},
     "output_type": "display_data"
    }
   ],
   "source": [
    "# 예측실패한 이미지 확인\n",
    "\n",
    "plt.figure(figsize=(14,12))\n",
    "for idx,n in enumerate(sample):\n",
    "    plt.subplot(4,4,idx+1)\n",
    "    plt.imshow(test_input[n].reshape(28,28),cmap='gray_r',interpolation='nearest')\n",
    "    plt.title(f'label={test_target[n]} / predict={pred_labels[n]}')\n",
    "    plt.axis('off')\n",
    "\n",
    "plt.show()"
   ]
  },
  {
   "cell_type": "markdown",
   "metadata": {},
   "source": [
    "#### Dropout 안한 것이 더 잘 나옴"
   ]
  },
  {
   "cell_type": "code",
   "execution_count": 31,
   "metadata": {},
   "outputs": [
    {
     "name": "stdout",
     "output_type": "stream",
     "text": [
      "Model: \"ANN\"\n",
      "_________________________________________________________________\n",
      " Layer (type)                Output Shape              Param #   \n",
      "=================================================================\n",
      " flatten_1 (Flatten)         (None, 784)               0         \n",
      "                                                                 \n",
      " hidden (Dense)              (None, 100)               78500     \n",
      "                                                                 \n",
      " dropout (Dropout)           (None, 100)               0         \n",
      "                                                                 \n",
      " output (Dense)              (None, 10)                1010      \n",
      "                                                                 \n",
      "=================================================================\n",
      "Total params: 79,510\n",
      "Trainable params: 79,510\n",
      "Non-trainable params: 0\n",
      "_________________________________________________________________\n"
     ]
    }
   ],
   "source": [
    "model = keras.Sequential(name='ANN')\n",
    "\n",
    "model.add(keras.layers.Flatten(input_shape=(28,28))) # 2차원 입력 값을 1차원으로\n",
    "model.add(keras.layers.Dense(100,activation='relu',name='hidden'))\n",
    "model.add(keras.layers.Dropout(0.3))\n",
    "model.add(keras.layers.Dense(10,activation='softmax',name='output'))\n",
    "model.summary()"
   ]
  },
  {
   "cell_type": "code",
   "execution_count": 32,
   "metadata": {},
   "outputs": [
    {
     "name": "stdout",
     "output_type": "stream",
     "text": [
      "Epoch 1/20\n",
      "589/600 [============================>.] - ETA: 0s - loss: 4.5610 - accuracy: 0.6522\n",
      "Epoch 1: val_loss improved from inf to 0.81241, saving model to ./data\\best_ANN_model.h5\n",
      "600/600 [==============================] - 2s 3ms/step - loss: 4.4983 - accuracy: 0.6525 - val_loss: 0.8124 - val_accuracy: 0.8078\n",
      "Epoch 2/20\n",
      "586/600 [============================>.] - ETA: 0s - loss: 0.8780 - accuracy: 0.7699\n",
      "Epoch 2: val_loss improved from 0.81241 to 0.57257, saving model to ./data\\best_ANN_model.h5\n",
      "600/600 [==============================] - 1s 2ms/step - loss: 0.8756 - accuracy: 0.7704 - val_loss: 0.5726 - val_accuracy: 0.8782\n",
      "Epoch 3/20\n",
      "590/600 [============================>.] - ETA: 0s - loss: 0.6657 - accuracy: 0.8243\n",
      "Epoch 3: val_loss improved from 0.57257 to 0.45672, saving model to ./data\\best_ANN_model.h5\n",
      "600/600 [==============================] - 1s 2ms/step - loss: 0.6643 - accuracy: 0.8248 - val_loss: 0.4567 - val_accuracy: 0.9075\n",
      "Epoch 4/20\n",
      "577/600 [===========================>..] - ETA: 0s - loss: 0.5598 - accuracy: 0.8522\n",
      "Epoch 4: val_loss improved from 0.45672 to 0.43336, saving model to ./data\\best_ANN_model.h5\n",
      "600/600 [==============================] - 1s 2ms/step - loss: 0.5594 - accuracy: 0.8525 - val_loss: 0.4334 - val_accuracy: 0.9171\n",
      "Epoch 5/20\n",
      "580/600 [============================>.] - ETA: 0s - loss: 0.4932 - accuracy: 0.8690\n",
      "Epoch 5: val_loss improved from 0.43336 to 0.35843, saving model to ./data\\best_ANN_model.h5\n",
      "600/600 [==============================] - 1s 2ms/step - loss: 0.4921 - accuracy: 0.8689 - val_loss: 0.3584 - val_accuracy: 0.9276\n",
      "Epoch 6/20\n",
      "598/600 [============================>.] - ETA: 0s - loss: 0.4485 - accuracy: 0.8804\n",
      "Epoch 6: val_loss improved from 0.35843 to 0.34101, saving model to ./data\\best_ANN_model.h5\n",
      "600/600 [==============================] - 1s 2ms/step - loss: 0.4484 - accuracy: 0.8805 - val_loss: 0.3410 - val_accuracy: 0.9346\n",
      "Epoch 7/20\n",
      "587/600 [============================>.] - ETA: 0s - loss: 0.4197 - accuracy: 0.8866\n",
      "Epoch 7: val_loss improved from 0.34101 to 0.32750, saving model to ./data\\best_ANN_model.h5\n",
      "600/600 [==============================] - 1s 2ms/step - loss: 0.4203 - accuracy: 0.8864 - val_loss: 0.3275 - val_accuracy: 0.9347\n",
      "Epoch 8/20\n",
      "570/600 [===========================>..] - ETA: 0s - loss: 0.3893 - accuracy: 0.8966\n",
      "Epoch 8: val_loss improved from 0.32750 to 0.30805, saving model to ./data\\best_ANN_model.h5\n",
      "600/600 [==============================] - 1s 2ms/step - loss: 0.3901 - accuracy: 0.8965 - val_loss: 0.3080 - val_accuracy: 0.9375\n",
      "Epoch 9/20\n",
      "580/600 [============================>.] - ETA: 0s - loss: 0.3712 - accuracy: 0.8996\n",
      "Epoch 9: val_loss improved from 0.30805 to 0.28147, saving model to ./data\\best_ANN_model.h5\n",
      "600/600 [==============================] - 2s 3ms/step - loss: 0.3718 - accuracy: 0.8995 - val_loss: 0.2815 - val_accuracy: 0.9452\n",
      "Epoch 10/20\n",
      "595/600 [============================>.] - ETA: 0s - loss: 0.3472 - accuracy: 0.9054\n",
      "Epoch 10: val_loss improved from 0.28147 to 0.27957, saving model to ./data\\best_ANN_model.h5\n",
      "600/600 [==============================] - 2s 3ms/step - loss: 0.3475 - accuracy: 0.9053 - val_loss: 0.2796 - val_accuracy: 0.9451\n",
      "Epoch 11/20\n",
      "595/600 [============================>.] - ETA: 0s - loss: 0.3409 - accuracy: 0.9071\n",
      "Epoch 11: val_loss improved from 0.27957 to 0.24604, saving model to ./data\\best_ANN_model.h5\n",
      "600/600 [==============================] - 1s 2ms/step - loss: 0.3411 - accuracy: 0.9071 - val_loss: 0.2460 - val_accuracy: 0.9436\n",
      "Epoch 12/20\n",
      "585/600 [============================>.] - ETA: 0s - loss: 0.3242 - accuracy: 0.9112\n",
      "Epoch 12: val_loss did not improve from 0.24604\n",
      "600/600 [==============================] - 1s 2ms/step - loss: 0.3249 - accuracy: 0.9110 - val_loss: 0.2500 - val_accuracy: 0.9460\n",
      "Epoch 13/20\n",
      "582/600 [============================>.] - ETA: 0s - loss: 0.3164 - accuracy: 0.9132\n",
      "Epoch 13: val_loss improved from 0.24604 to 0.24031, saving model to ./data\\best_ANN_model.h5\n",
      "600/600 [==============================] - 1s 2ms/step - loss: 0.3162 - accuracy: 0.9133 - val_loss: 0.2403 - val_accuracy: 0.9542\n",
      "Epoch 14/20\n",
      "595/600 [============================>.] - ETA: 0s - loss: 0.3018 - accuracy: 0.9178\n",
      "Epoch 14: val_loss improved from 0.24031 to 0.22319, saving model to ./data\\best_ANN_model.h5\n",
      "600/600 [==============================] - 2s 3ms/step - loss: 0.3021 - accuracy: 0.9176 - val_loss: 0.2232 - val_accuracy: 0.9514\n",
      "Epoch 15/20\n",
      "590/600 [============================>.] - ETA: 0s - loss: 0.2933 - accuracy: 0.9208\n",
      "Epoch 15: val_loss did not improve from 0.22319\n",
      "600/600 [==============================] - 1s 2ms/step - loss: 0.2935 - accuracy: 0.9208 - val_loss: 0.2528 - val_accuracy: 0.9514\n",
      "Epoch 16/20\n",
      "582/600 [============================>.] - ETA: 0s - loss: 0.2891 - accuracy: 0.9222\n",
      "Epoch 16: val_loss improved from 0.22319 to 0.22060, saving model to ./data\\best_ANN_model.h5\n",
      "600/600 [==============================] - 1s 2ms/step - loss: 0.2895 - accuracy: 0.9221 - val_loss: 0.2206 - val_accuracy: 0.9538\n",
      "Epoch 17/20\n",
      "599/600 [============================>.] - ETA: 0s - loss: 0.2794 - accuracy: 0.9230\n",
      "Epoch 17: val_loss did not improve from 0.22060\n",
      "600/600 [==============================] - 1s 2ms/step - loss: 0.2794 - accuracy: 0.9230 - val_loss: 0.2330 - val_accuracy: 0.9547\n",
      "Epoch 18/20\n",
      "585/600 [============================>.] - ETA: 0s - loss: 0.2755 - accuracy: 0.9237\n",
      "Epoch 18: val_loss did not improve from 0.22060\n",
      "600/600 [==============================] - 1s 2ms/step - loss: 0.2739 - accuracy: 0.9240 - val_loss: 0.2275 - val_accuracy: 0.9536\n"
     ]
    }
   ],
   "source": [
    "model.compile(loss='sparse_categorical_crossentropy',optimizer='adam',metrics='accuracy')\n",
    "\n",
    "checkpoint_cb = keras.callbacks.ModelCheckpoint('./data/best_ANN_model.h5',save_best_only=True,verbose=1)\n",
    "early_stopping_cb = keras.callbacks.EarlyStopping(patience=2,restore_best_weights=True)\n",
    "history = model.fit(train_input, train_target, epochs=20,verbose=1,batch_size=100, validation_data=(test_input, test_target), callbacks=[checkpoint_cb, early_stopping_cb])"
   ]
  },
  {
   "cell_type": "code",
   "execution_count": 33,
   "metadata": {},
   "outputs": [
    {
     "name": "stdout",
     "output_type": "stream",
     "text": [
      "313/313 [==============================] - 0s 1ms/step - loss: 0.2206 - accuracy: 0.9538\n"
     ]
    },
    {
     "data": {
      "text/plain": [
       "[0.22060465812683105, 0.9538000226020813]"
      ]
     },
     "execution_count": 33,
     "metadata": {},
     "output_type": "execute_result"
    }
   ],
   "source": [
    "model.evaluate(test_input,test_target)"
   ]
  },
  {
   "cell_type": "code",
   "execution_count": null,
   "metadata": {},
   "outputs": [],
   "source": []
  }
 ],
 "metadata": {
  "kernelspec": {
   "display_name": "Python 3.10.6 64-bit (windows store)",
   "language": "python",
   "name": "python3"
  },
  "language_info": {
   "codemirror_mode": {
    "name": "ipython",
    "version": 3
   },
   "file_extension": ".py",
   "mimetype": "text/x-python",
   "name": "python",
   "nbconvert_exporter": "python",
   "pygments_lexer": "ipython3",
   "version": "3.10.6"
  },
  "orig_nbformat": 4,
  "vscode": {
   "interpreter": {
    "hash": "614ab989cdc66a649d1bb5ae325f2f1314093ceadee94b2deaa33c97b811aaf8"
   }
  }
 },
 "nbformat": 4,
 "nbformat_minor": 2
}
